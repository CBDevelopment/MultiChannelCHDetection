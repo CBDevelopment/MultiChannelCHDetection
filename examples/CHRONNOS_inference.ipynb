{
 "nbformat": 4,
 "nbformat_minor": 0,
 "metadata": {
  "colab": {
   "provenance": [],
   "collapsed_sections": []
  },
  "kernelspec": {
   "name": "python3",
   "display_name": "Python 3"
  },
  "language_info": {
   "name": "python"
  }
 },
 "cells": [
  {
   "cell_type": "markdown",
   "source": [
    "# CHRONNOS - automatic coronal hole detection"
   ],
   "metadata": {
    "id": "qGyWHJc4RiHK"
   }
  },
  {
   "cell_type": "markdown",
   "source": [
    "![](https://github.com/RobertJaro/MultiChannelCHDetection/blob/main/images/title.jpg?raw=true)"
   ],
   "metadata": {
    "id": "BC10n2oakUdx"
   }
  },
  {
   "cell_type": "markdown",
   "source": [
    "This notebook provides coronal hole detections for arbitrary dates. Use the form below to specify the observation date. The data is automatically downloaded from JSOC, afterwards CHRONNOS scans the files and provides the CH maps as FITS files. This version uses only 4 EUV channels for detecting coronal holes. The notebook uses online resources for the computations. You can download the results or continue your evaluation in this notebook.\n",
    "\n",
    "(Predictions require a few seconds per sample. If you need to detect coronal holes from a larger data set you can activate the GPU acceleration to speed up the detections.)"
   ],
   "metadata": {
    "id": "eg7QO5OGjzks"
   }
  },
  {
   "cell_type": "markdown",
   "source": [
    "## Install and imports"
   ],
   "metadata": {
    "id": "IGdTsDXTQyrY"
   }
  },
  {
   "cell_type": "code",
   "source": [
    "!pip install matplotlib==3.1.3\n",
    "!pip install sunpy==3.1.0\n",
    "!pip install chronnos"
   ],
   "metadata": {
    "id": "yAkxGnVCmhy6"
   },
   "execution_count": null,
   "outputs": []
  },
  {
   "cell_type": "code",
   "execution_count": null,
   "metadata": {
    "id": "D2_Sm9nKiVJ0"
   },
   "outputs": [],
   "source": [
    "# imports for download\n",
    "import os\n",
    "import shutil\n",
    "import drms\n",
    "from datetime import datetime\n",
    "\n",
    "# CHRONNOS detection tool\n",
    "from chronnos.evaluate.detect import CHRONNOSDetector\n",
    "from chronnos.data.convert import get_intersecting_files\n",
    "from tqdm import tqdm\n",
    "\n",
    "# visualization\n",
    "from sunpy.map import Map\n",
    "from matplotlib import pyplot as plt\n",
    "from astropy.visualization import ImageNormalize, AsinhStretch\n",
    "from sunpy.visualization.colormaps import cm\n",
    "\n",
    "# file zip\n",
    "import gzip\n",
    "import glob"
   ]
  },
  {
   "cell_type": "markdown",
   "source": [
    "## Download data"
   ],
   "metadata": {
    "id": "BsH9VueEQ3q7"
   }
  },
  {
   "cell_type": "code",
   "source": [
    "#@title Download Settings\n",
    "download_dir = 'chronnos_series' #@param {type:\"string\"}\n",
    "\n",
    "wavelengths = ['171', '193', '211', '304'] #@param {type:\"raw\"}\n",
    "\n",
    "#@markdown Downloading data requires an active registration at JSOC. http://jsoc.stanford.edu/ajax/register_email.html (free of charge)\n",
    "email = '\\u003C\\u003Cyour email>>' #@param {type:\"string\"}\n",
    "\n",
    "# initialize the download client and directories\n",
    "[os.makedirs(os.path.join(download_dir, wl), exist_ok=True) for wl in wavelengths]\n",
    "client = drms.Client(email=email, verbose=True)"
   ],
   "metadata": {
    "id": "VoDxdq7Zi9_I",
    "cellView": "form"
   },
   "execution_count": null,
   "outputs": []
  },
  {
   "cell_type": "markdown",
   "source": [
    "Use the JSOC notation to specify the duration and cadence. (e.g., `m=minutes, h=hours, d=days`)"
   ],
   "metadata": {
    "id": "ZC2_jawshxW7"
   }
  },
  {
   "cell_type": "code",
   "source": [
    "#@title Select observation series\n",
    "year = 2022 #@param {type:\"integer\"}\n",
    "month = 9 #@param {type:\"integer\"}\n",
    "day = 28 #@param {type:\"integer\"}\n",
    "hour = 0 #@param {type:\"integer\"}\n",
    "minute = 0 #@param {type:\"number\"}\n",
    "duration = '1d' #@param {type:\"string\"}\n",
    "cadence = '3h' #@param {type:\"string\"}\n",
    "\n",
    "# create datetime object\n",
    "date = datetime(year, month, day, hour, minute)"
   ],
   "metadata": {
    "id": "p4jvjuEi6Qfd",
    "cellView": "form"
   },
   "execution_count": null,
   "outputs": []
  },
  {
   "cell_type": "markdown",
   "source": [
    "The data download might take a few minutes, depending on the size of the requested series."
   ],
   "metadata": {
    "id": "4OtjgyWNZBiR"
   }
  },
  {
   "cell_type": "code",
   "source": [
    "r = client.export('aia.lev1_euv_12s[%s/%s@%s][%s]{image}' % (date.isoformat('T'), duration, cadence, ','.join(wavelengths)), )\n",
    "r.wait()\n",
    "\n",
    "downloaded_files = r.download(download_dir)\n",
    "for f in downloaded_files.download:\n",
    "  path_elements = os.path.basename(f).split('.')\n",
    "  f_date = path_elements[2]\n",
    "  wl = path_elements[3]\n",
    "  shutil.move(f, os.path.join(download_dir, wl, f_date[:-1] + '.fits'))"
   ],
   "metadata": {
    "id": "y8CrZtth6Lst"
   },
   "execution_count": null,
   "outputs": []
  },
  {
   "cell_type": "markdown",
   "source": [
    "## Detect coronal holes"
   ],
   "metadata": {
    "id": "t7KpJZnUf6OT"
   }
  },
  {
   "cell_type": "code",
   "source": [
    "chronnos_detector = CHRONNOSDetector(model_name='chronnos_euv_v1_0.pt')"
   ],
   "metadata": {
    "id": "GvRp-p9PmYe0"
   },
   "execution_count": null,
   "outputs": []
  },
  {
   "cell_type": "code",
   "source": [
    "# create dir for results\n",
    "os.makedirs(os.path.join(download_dir, 'masks'), exist_ok=True)\n",
    "os.makedirs(os.path.join(download_dir, 'imgs'), exist_ok=True)\n",
    "# group FITS files\n",
    "dirs = ['171', '193', '211', '304']\n",
    "map_paths = get_intersecting_files(download_dir, dirs=dirs)\n",
    "# plotting\n",
    "norm = ImageNormalize(vmin=0, vmax=8000, stretch=AsinhStretch(0.005))\n",
    "cmap = cm.sdoaia193"
   ],
   "metadata": {
    "id": "MQEWmVb3gZke"
   },
   "execution_count": null,
   "outputs": []
  },
  {
   "cell_type": "code",
   "source": [
    "# start detection\n",
    "for ch_map, aia_map_path in tqdm(zip(chronnos_detector.ipredict(map_paths, reproject=False), \n",
    "                                     map_paths[1]), \n",
    "                                total=len(map_paths[3])):\n",
    "  # save fits\n",
    "  mask_path = os.path.join(download_dir, 'masks', os.path.basename(aia_map_path))\n",
    "  Map(ch_map.data.astype('int16'), ch_map.meta).save(mask_path)\n",
    "  # zip fits file\n",
    "  with open(mask_path, 'rb') as f_in, gzip.open(mask_path + '.gz', 'wb') as f_out:\n",
    "    f_out.writelines(f_in)\n",
    "  os.remove(mask_path)\n",
    "  # plot overlay (other evaluations can be also done here)\n",
    "  aia_map = Map(aia_map_path)\n",
    "  plt.figure(figsize=(10, 10))\n",
    "  plt.subplot(111, projection=aia_map)\n",
    "  plt.imshow(aia_map.data / aia_map.exposure_time.value, norm=norm, cmap=cmap)\n",
    "  plt.title(aia_map.date)\n",
    "  plt.xlabel('Helioprojective Longitude')\n",
    "  plt.ylabel('Helioprojective Latitude')\n",
    "  ch_map.draw_contours(levels=[0.5], colors=['red'])\n",
    "  plt.savefig(os.path.join(download_dir, 'imgs', '%s.jpg' %ch_map.date.to_datetime().isoformat('T')))\n",
    "  plt.close()"
   ],
   "metadata": {
    "id": "IcYAZG9MPjt5"
   },
   "execution_count": null,
   "outputs": []
  },
  {
   "cell_type": "markdown",
   "source": [
    "The results can be found in the menu on the left (select Files and then navigate to the `chronnos_series` directory)."
   ],
   "metadata": {
    "id": "R25dhNWOaKQ0"
   }
  },
  {
   "cell_type": "markdown",
   "source": [
    "For an easier download we can zip the masks."
   ],
   "metadata": {
    "id": "LO4ioU0Abgob"
   }
  },
  {
   "cell_type": "code",
   "source": [
    "shutil.make_archive(os.path.join(download_dir, 'masks'), 'zip', os.path.join(download_dir, 'masks'))"
   ],
   "metadata": {
    "id": "OgQ9akG1-RAx"
   },
   "execution_count": null,
   "outputs": []
  }
 ]
}